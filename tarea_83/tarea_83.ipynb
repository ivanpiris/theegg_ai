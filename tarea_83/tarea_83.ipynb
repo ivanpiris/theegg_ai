{
  "nbformat": 4,
  "nbformat_minor": 0,
  "metadata": {
    "colab": {
      "provenance": []
    },
    "kernelspec": {
      "name": "python3",
      "display_name": "Python 3"
    },
    "language_info": {
      "name": "python"
    }
  },
  "cells": [
    {
      "cell_type": "code",
      "execution_count": 1,
      "metadata": {
        "id": "3wtRyJ10zmj2"
      },
      "outputs": [],
      "source": [
        "def superficie_cuadrado(lado: float) -> float:\n",
        "    \"\"\"\n",
        "    Esta función calcula la superficie de un cuadrado.\n",
        "    \n",
        "    Parameters:\n",
        "    lado (float): El valor del lado del cuadrado.\n",
        "    \n",
        "    Returns:\n",
        "    float: La superficie del cuadrado.\n",
        "    \n",
        "    Example:\n",
        "    >>> superficie_cuadrado(5)\n",
        "    25\n",
        "    >>> superficie_cuadrado(7)\n",
        "    49\n",
        "    \"\"\"\n",
        "    return lado ** 2"
      ]
    },
    {
      "cell_type": "code",
      "source": [
        "lado = int(input(\"Introduce el lado del cuadrado a calcular: \"))\n",
        "print(f'La superfecie del cuadrado de lado {lado} es {superficie_cuadrado(lado)}')"
      ],
      "metadata": {
        "colab": {
          "base_uri": "https://localhost:8080/"
        },
        "id": "OnDUPegGz01e",
        "outputId": "975a56c0-0bc8-4ff7-ca98-76f197ad78f8"
      },
      "execution_count": 2,
      "outputs": [
        {
          "output_type": "stream",
          "name": "stdout",
          "text": [
            "Introduce el lado del cuadrado a calcular: 15\n",
            "La superfecie del cuadrado de lado 15 es 225\n"
          ]
        }
      ]
    }
  ]
}