{
  "cells": [
    {
      "cell_type": "markdown",
      "metadata": {
        "id": "9MmTD51IX564"
      },
      "source": [
        "------------------------------------------------------------------------------------------------------<br>\n",
        "<h3 style=\"background:#87a1c2; color:#ffffff; padding:20px; border-radius:5px;\">✍ EJERCICIOS NUMPY PARA @EGGERS</h3><br>\n",
        "------------------------------------------------------------------------------------------------------<br>"
      ]
    },
    {
      "cell_type": "code",
      "source": [
        "import numpy as np"
      ],
      "metadata": {
        "id": "bWwD_1cqYhjW"
      },
      "execution_count": 1,
      "outputs": []
    },
    {
      "cell_type": "markdown",
      "metadata": {
        "id": "iHndNAgGX56-"
      },
      "source": [
        "1. Crea un vector entre 7 y 66.\n",
        "2. Invierte el vector generado anteriormente.\n",
        "3. Matriz de 4x4 con valores entre 0 y 15.\n",
        "5. Crea la matriz identidad de 5x5.\n",
        "6. Crea una matriz de 5x5 donde la posición central y todas las posiciones que conforman el marco valgan 1 y el resto 0.\n",
        "7. Matriz de 4x4 donde cada fila valga entre 3 y 0. Valores in crescendo.\n",
        "8. Crea un array de ceros de 2x7.\n",
        "9. Crea un array de ceros de 5x4 excepto toda la primera fila que valga 1.\n",
        "10. Crea un array que represente una tabla de ajedrez. Negras 1 y blancas 0."
      ]
    },
    {
      "cell_type": "markdown",
      "source": [
        "## Crea un vector entre 7 y 66."
      ],
      "metadata": {
        "id": "N8X0MS-MYXEc"
      }
    },
    {
      "cell_type": "code",
      "source": [
        "vector_7_to_66 = np.arange(7, 67)\n",
        "\n",
        "print(vector_7_to_66)"
      ],
      "metadata": {
        "colab": {
          "base_uri": "https://localhost:8080/"
        },
        "id": "SXVmf8mFYbva",
        "outputId": "1908c1d8-cd92-4027-ffb1-0f40654d225d"
      },
      "execution_count": 2,
      "outputs": [
        {
          "output_type": "stream",
          "name": "stdout",
          "text": [
            "[ 7  8  9 10 11 12 13 14 15 16 17 18 19 20 21 22 23 24 25 26 27 28 29 30\n",
            " 31 32 33 34 35 36 37 38 39 40 41 42 43 44 45 46 47 48 49 50 51 52 53 54\n",
            " 55 56 57 58 59 60 61 62 63 64 65 66]\n"
          ]
        }
      ]
    },
    {
      "cell_type": "markdown",
      "source": [
        "## Invierte el vector generado anteriormente."
      ],
      "metadata": {
        "id": "qISw7MDsZszJ"
      }
    },
    {
      "cell_type": "code",
      "source": [
        "vector_66_to_7 = vector_7_to_66[::-1]\n",
        "\n",
        "print(vector_66_to_7)"
      ],
      "metadata": {
        "colab": {
          "base_uri": "https://localhost:8080/"
        },
        "id": "jflLlzJmYm6i",
        "outputId": "39efd9b6-e255-4d99-b989-38aaeb769acf"
      },
      "execution_count": 3,
      "outputs": [
        {
          "output_type": "stream",
          "name": "stdout",
          "text": [
            "[66 65 64 63 62 61 60 59 58 57 56 55 54 53 52 51 50 49 48 47 46 45 44 43\n",
            " 42 41 40 39 38 37 36 35 34 33 32 31 30 29 28 27 26 25 24 23 22 21 20 19\n",
            " 18 17 16 15 14 13 12 11 10  9  8  7]\n"
          ]
        }
      ]
    },
    {
      "cell_type": "markdown",
      "source": [
        "## Matriz de 4x4 con valores entre 0 y 15."
      ],
      "metadata": {
        "id": "ojyMt1InZSKk"
      }
    },
    {
      "cell_type": "code",
      "source": [
        "matriz_0_to_15 = np.arange(0,16).reshape(4,4)\n",
        "\n",
        "print(matriz_0_to_15)"
      ],
      "metadata": {
        "colab": {
          "base_uri": "https://localhost:8080/"
        },
        "id": "La6n413jZQqU",
        "outputId": "49235144-fd10-413e-c338-66294106fb08"
      },
      "execution_count": 4,
      "outputs": [
        {
          "output_type": "stream",
          "name": "stdout",
          "text": [
            "[[ 0  1  2  3]\n",
            " [ 4  5  6  7]\n",
            " [ 8  9 10 11]\n",
            " [12 13 14 15]]\n"
          ]
        }
      ]
    },
    {
      "cell_type": "markdown",
      "source": [
        "## Crea la matriz identidad de 5x5."
      ],
      "metadata": {
        "id": "nSEflocyZx2k"
      }
    },
    {
      "cell_type": "code",
      "source": [
        "identidad_5 = np.identity(5)\n",
        "\n",
        "print(identidad_5)"
      ],
      "metadata": {
        "colab": {
          "base_uri": "https://localhost:8080/"
        },
        "id": "jSA2Awm4Y3zL",
        "outputId": "54bdf2bf-39a6-44bf-80d1-34378f8c79fc"
      },
      "execution_count": 5,
      "outputs": [
        {
          "output_type": "stream",
          "name": "stdout",
          "text": [
            "[[1. 0. 0. 0. 0.]\n",
            " [0. 1. 0. 0. 0.]\n",
            " [0. 0. 1. 0. 0.]\n",
            " [0. 0. 0. 1. 0.]\n",
            " [0. 0. 0. 0. 1.]]\n"
          ]
        }
      ]
    },
    {
      "cell_type": "markdown",
      "source": [
        "## Crea una matriz de 5x5 donde la posición central y todas las posiciones que conforman el marco valgan 1 y el resto 0."
      ],
      "metadata": {
        "id": "mk7C-R6_Z9Jr"
      }
    },
    {
      "cell_type": "code",
      "source": [
        "matriz_bordes = np.zeros((5, 5))\n",
        "\n",
        "# Establecemos el valor de 1 en el centro de la matriz\n",
        "matriz_bordes[2, 2] = 1\n",
        "\n",
        "# Establecemos los valores de 1 en los bordes de la matriz\n",
        "matriz_bordes[0, :] = 1\n",
        "matriz_bordes[4, :] = 1\n",
        "matriz_bordes[:, 0] = 1\n",
        "matriz_bordes[:, 4] = 1\n",
        "\n",
        "print(matriz_bordes)"
      ],
      "metadata": {
        "colab": {
          "base_uri": "https://localhost:8080/"
        },
        "id": "h490-yLBZ5n7",
        "outputId": "ee360f6c-64ce-49b1-d4a4-3343401bf33d"
      },
      "execution_count": 6,
      "outputs": [
        {
          "output_type": "stream",
          "name": "stdout",
          "text": [
            "[[1. 1. 1. 1. 1.]\n",
            " [1. 0. 0. 0. 1.]\n",
            " [1. 0. 1. 0. 1.]\n",
            " [1. 0. 0. 0. 1.]\n",
            " [1. 1. 1. 1. 1.]]\n"
          ]
        }
      ]
    },
    {
      "cell_type": "markdown",
      "source": [
        "## Matriz de 4x4 donde cada fila valga entre 3 y 0. Valores in crescendo."
      ],
      "metadata": {
        "id": "kVPIaT9Ja06S"
      }
    },
    {
      "cell_type": "code",
      "source": [
        "matriz_in_crescendo = np.zeros((4, 4))\n",
        "\n",
        "# Llenamos cada fila con valores in crescendo, de 3 a 0\n",
        "for fila in range(4):\n",
        "    matriz_in_crescendo[fila] = np.arange(3, -1, -1)\n",
        "\n",
        "print(matriz_in_crescendo)"
      ],
      "metadata": {
        "colab": {
          "base_uri": "https://localhost:8080/"
        },
        "id": "NIu2UQrTaJoC",
        "outputId": "2e792a8e-2f7e-4222-bbe2-03d68218ba3b"
      },
      "execution_count": 7,
      "outputs": [
        {
          "output_type": "stream",
          "name": "stdout",
          "text": [
            "[[3. 2. 1. 0.]\n",
            " [3. 2. 1. 0.]\n",
            " [3. 2. 1. 0.]\n",
            " [3. 2. 1. 0.]]\n"
          ]
        }
      ]
    },
    {
      "cell_type": "markdown",
      "source": [
        "## Crea un array de ceros de 2x7."
      ],
      "metadata": {
        "id": "tsEhr3KTbZWc"
      }
    },
    {
      "cell_type": "code",
      "source": [
        "matriz_zeros = np.zeros((2, 7))\n",
        "\n",
        "print(matriz_zeros)"
      ],
      "metadata": {
        "colab": {
          "base_uri": "https://localhost:8080/"
        },
        "id": "fo1r6xxobWOk",
        "outputId": "c1b3ad0f-e40d-4b2a-8615-aa515c879297"
      },
      "execution_count": 8,
      "outputs": [
        {
          "output_type": "stream",
          "name": "stdout",
          "text": [
            "[[0. 0. 0. 0. 0. 0. 0.]\n",
            " [0. 0. 0. 0. 0. 0. 0.]]\n"
          ]
        }
      ]
    },
    {
      "cell_type": "markdown",
      "source": [
        "## Crea un array de ceros de 5x4 excepto toda la primera fila que valga 1."
      ],
      "metadata": {
        "id": "vYavCEWgbpwB"
      }
    },
    {
      "cell_type": "code",
      "source": [
        "matriz_zeros_y_unos = np.zeros((5, 4))\n",
        "\n",
        "# Establecemos el valor de 1 en la primera fila de la matriz\n",
        "matriz_zeros_y_unos[0, :] = 1\n",
        "\n",
        "print(matriz_zeros_y_unos)"
      ],
      "metadata": {
        "colab": {
          "base_uri": "https://localhost:8080/"
        },
        "id": "ChyTO_yobj0z",
        "outputId": "18cd80a1-9530-4d02-87db-005933ba8037"
      },
      "execution_count": 9,
      "outputs": [
        {
          "output_type": "stream",
          "name": "stdout",
          "text": [
            "[[1. 1. 1. 1.]\n",
            " [0. 0. 0. 0.]\n",
            " [0. 0. 0. 0.]\n",
            " [0. 0. 0. 0.]\n",
            " [0. 0. 0. 0.]]\n"
          ]
        }
      ]
    },
    {
      "cell_type": "markdown",
      "source": [
        "## Crea un array que represente una tabla de ajedrez. Negras 1 y blancas 0."
      ],
      "metadata": {
        "id": "MZ_aIJMQb9K-"
      }
    },
    {
      "cell_type": "code",
      "source": [
        "# Creamos un array de ceros de 8x8\n",
        "tablero_ajedrez = np.zeros((8, 8), dtype=int)\n",
        "\n",
        "# Asignamos los valores de 1 a las celdas negras\n",
        "tablero_ajedrez[1::2, ::2] = 1\n",
        "tablero_ajedrez[::2, 1::2] = 1\n",
        "\n",
        "print(tablero_ajedrez)"
      ],
      "metadata": {
        "colab": {
          "base_uri": "https://localhost:8080/"
        },
        "id": "1BTgDqaCb1wE",
        "outputId": "d2fae69c-95e4-4bf2-a3cc-5f089cba4aa5"
      },
      "execution_count": 10,
      "outputs": [
        {
          "output_type": "stream",
          "name": "stdout",
          "text": [
            "[[0 1 0 1 0 1 0 1]\n",
            " [1 0 1 0 1 0 1 0]\n",
            " [0 1 0 1 0 1 0 1]\n",
            " [1 0 1 0 1 0 1 0]\n",
            " [0 1 0 1 0 1 0 1]\n",
            " [1 0 1 0 1 0 1 0]\n",
            " [0 1 0 1 0 1 0 1]\n",
            " [1 0 1 0 1 0 1 0]]\n"
          ]
        }
      ]
    },
    {
      "cell_type": "code",
      "source": [],
      "metadata": {
        "id": "RKmYmFXBcJWM"
      },
      "execution_count": 10,
      "outputs": []
    }
  ],
  "metadata": {
    "kernelspec": {
      "display_name": "Python 3",
      "language": "python",
      "name": "python3"
    },
    "language_info": {
      "codemirror_mode": {
        "name": "ipython",
        "version": 3
      },
      "file_extension": ".py",
      "mimetype": "text/x-python",
      "name": "python",
      "nbconvert_exporter": "python",
      "pygments_lexer": "ipython3",
      "version": "3.8.5"
    },
    "colab": {
      "provenance": []
    }
  },
  "nbformat": 4,
  "nbformat_minor": 0
}