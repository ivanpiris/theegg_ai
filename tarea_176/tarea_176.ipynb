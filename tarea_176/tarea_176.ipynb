{
  "nbformat": 4,
  "nbformat_minor": 0,
  "metadata": {
    "colab": {
      "provenance": []
    },
    "kernelspec": {
      "name": "python3",
      "display_name": "Python 3"
    },
    "language_info": {
      "name": "python"
    }
  },
  "cells": [
    {
      "cell_type": "code",
      "execution_count": 1,
      "metadata": {
        "colab": {
          "base_uri": "https://localhost:8080/"
        },
        "id": "JrV4DjG5ZIJy",
        "outputId": "0b357d16-488a-4ccb-e693-6307875dd3ab"
      },
      "outputs": [
        {
          "output_type": "execute_result",
          "data": {
            "text/plain": [
              "9"
            ]
          },
          "metadata": {},
          "execution_count": 1
        }
      ],
      "source": [
        "def max_num(*numbers: int) -> int:\n",
        "    \"\"\"\n",
        "    Esta función encuentra el número máximo entre varios números dados como argumentos.\n",
        "    \n",
        "    Parameters:\n",
        "    *numbers (int): Los números de los cuales se desea encontrar el máximo.\n",
        "    \n",
        "    Returns:\n",
        "    int: El número máximo entre los números dados como argumentos.\n",
        "    \n",
        "    Example:\n",
        "    >>> max_num(1, 2, 3, 4, 5)\n",
        "    5\n",
        "    >>> max_num(-1, -5, 0, 10, 15)\n",
        "    15\n",
        "    \"\"\"\n",
        "    return max(numbers)\n",
        "\n",
        "max_num(2,5,7,9)"
      ]
    },
    {
      "cell_type": "code",
      "source": [
        "def longitud_frase(frase: str, count_spaces: bool = True) -> int:\n",
        "    \"\"\"\n",
        "    Esta función calcula la longitud de una frase dada, contando o no los espacios en blanco.\n",
        "\n",
        "    Parameters:\n",
        "    frase (str): La frase de la cual se desea calcular la longitud.\n",
        "    count_spaces (bool): Un valor booleano que indica si se deben contar los espacios en blanco. (default: True)\n",
        "\n",
        "    Returns:\n",
        "    int: La longitud de la frase dada.\n",
        "\n",
        "    Example:\n",
        "    >>> longitud_frase(\"Hola mundo\")\n",
        "    11\n",
        "    >>> longitud_frase(\"Hola mundo\", False)\n",
        "    9\n",
        "    \"\"\"\n",
        "    return len(frase) if count_spaces else len(frase.replace(' ', ''))\n",
        "\n",
        "print(longitud_frase(\"Esto es una prueba\"))\n",
        "print(longitud_frase(\"Esto es una prueba\", count_spaces=False))"
      ],
      "metadata": {
        "colab": {
          "base_uri": "https://localhost:8080/"
        },
        "id": "u3GC-RfHZS36",
        "outputId": "c6d9c260-6deb-4b13-aac4-f60fe484a837"
      },
      "execution_count": 2,
      "outputs": [
        {
          "output_type": "stream",
          "name": "stdout",
          "text": [
            "18\n",
            "15\n"
          ]
        }
      ]
    },
    {
      "cell_type": "code",
      "source": [
        "def es_vocal(caracter: str) -> bool:\n",
        "    \"\"\"\n",
        "    Esta función determina si un carácter dado es una vocal o no.\n",
        "    \n",
        "    Parameters:\n",
        "    caracter (str): El carácter del cual se desea determinar si es una vocal.\n",
        "    \n",
        "    Returns:\n",
        "    bool: True si el carácter es una vocal, False si el carácter no es una vocal.\n",
        "    \n",
        "    Example:\n",
        "    >>> es_vocal(\"a\")\n",
        "    True\n",
        "    >>> es_vocal(\"b\")\n",
        "    False\n",
        "    \"\"\"\n",
        "    vocales = ['a', 'e', 'i', 'o', 'u', 'A', 'E', 'I', 'O', 'U']\n",
        "    return caracter in vocales\n",
        "\n",
        "es_vocal('e')"
      ],
      "metadata": {
        "colab": {
          "base_uri": "https://localhost:8080/"
        },
        "id": "J0FoLbWYZnBv",
        "outputId": "64c4c37d-c24c-44ae-ec97-c1a7b6c44116"
      },
      "execution_count": 3,
      "outputs": [
        {
          "output_type": "execute_result",
          "data": {
            "text/plain": [
              "True"
            ]
          },
          "metadata": {},
          "execution_count": 3
        }
      ]
    },
    {
      "cell_type": "code",
      "source": [
        "def suma_lista(numeros: list) -> int:\n",
        "    \"\"\"\n",
        "    Esta función calcula la suma de los elementos de una lista dada de números.\n",
        "    \n",
        "    Parameters:\n",
        "    numeros (list): La lista de números a sumar.\n",
        "    \n",
        "    Returns:\n",
        "    int: La suma de los elementos de la lista dada.\n",
        "    \n",
        "    Example:\n",
        "    >>> suma_lista([1, 2, 3, 4, 5])\n",
        "    15\n",
        "    >>> suma_lista([-1, -5, 0, 10, 15])\n",
        "    19\n",
        "    \"\"\"\n",
        "    return sum(numeros)\n",
        "    \n",
        "suma_lista([2,8,7])"
      ],
      "metadata": {
        "colab": {
          "base_uri": "https://localhost:8080/"
        },
        "id": "ko8tHkCFcKx_",
        "outputId": "6abd6c0e-56f7-41ea-9c07-b3e16199363f"
      },
      "execution_count": 4,
      "outputs": [
        {
          "output_type": "execute_result",
          "data": {
            "text/plain": [
              "17"
            ]
          },
          "metadata": {},
          "execution_count": 4
        }
      ]
    },
    {
      "cell_type": "code",
      "source": [
        "def es_palindromo(palabra: str) -> bool:\n",
        "    \"\"\"\n",
        "    Esta función determina si una palabra dada es un palíndromo o no.\n",
        "    \n",
        "    Parameters:\n",
        "    palabra (str): La palabra de la cual se desea determinar si es un palíndromo.\n",
        "    \n",
        "    Returns:\n",
        "    bool: True si la palabra es un palíndromo, False si la palabra no es un palíndromo.\n",
        "    \n",
        "    Example:\n",
        "    >>> es_palindromo(\"radar\")\n",
        "    True\n",
        "    >>> es_palindromo(\"hora\")\n",
        "    False\n",
        "    \"\"\"\n",
        "    return palabra == palabra[::-1]\n",
        "\n",
        "es_palindromo('somos')"
      ],
      "metadata": {
        "colab": {
          "base_uri": "https://localhost:8080/"
        },
        "id": "BbzCZah5cVYp",
        "outputId": "53dfeac4-6854-489d-c6a9-0bdede2ec0d4"
      },
      "execution_count": 5,
      "outputs": [
        {
          "output_type": "execute_result",
          "data": {
            "text/plain": [
              "True"
            ]
          },
          "metadata": {},
          "execution_count": 5
        }
      ]
    },
    {
      "cell_type": "code",
      "source": [
        "def valor_coincidente(lista1: list, lista2: list) -> bool:\n",
        "    \"\"\"\n",
        "    Esta función compara dos listas y determina si hay algún valor coincidente entre ellas.\n",
        "    \n",
        "    Parameters:\n",
        "    lista1 (list): La primera lista a comparar.\n",
        "    lista2 (list): La segunda lista a comparar.\n",
        "    \n",
        "    Returns:\n",
        "    bool: True si hay algún valor coincidente entre las dos listas, False si no hay valores coincidentes.\n",
        "    \n",
        "    Example:\n",
        "    >>> valor_coincidente([1, 2, 3], [4, 5, 6])\n",
        "    False\n",
        "    >>> valor_coincidente([1, 2, 3], [4, 2, 6])\n",
        "    True\n",
        "    \"\"\"\n",
        "    return set(lista1) & set(lista2) != set()\n",
        "\n",
        "valor_coincidente([5, 5, 8, 1, 9], [1, 4, 2, 9])"
      ],
      "metadata": {
        "colab": {
          "base_uri": "https://localhost:8080/"
        },
        "id": "6x2UH19Lc3UQ",
        "outputId": "e5160bad-d83c-4e76-a508-2cd8142c07e1"
      },
      "execution_count": 6,
      "outputs": [
        {
          "output_type": "execute_result",
          "data": {
            "text/plain": [
              "True"
            ]
          },
          "metadata": {},
          "execution_count": 6
        }
      ]
    }
  ]
}